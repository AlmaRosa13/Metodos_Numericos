{
  "nbformat": 4,
  "nbformat_minor": 0,
  "metadata": {
    "colab": {
      "provenance": []
    },
    "kernelspec": {
      "name": "python3",
      "display_name": "Python 3"
    },
    "language_info": {
      "name": "python"
    }
  },
  "cells": [
    {
      "cell_type": "code",
      "source": [
        "numero =26\n",
        "print (numero, 'en base 10 es', numero)\n",
        "print (numero, 'en base 2 es', bin(numero))\n",
        "print (numero, 'en base 8 es', oct(numero))\n",
        "print (numero, 'en base 16 es', hex(numero))"
      ],
      "metadata": {
        "colab": {
          "base_uri": "https://localhost:8080/"
        },
        "id": "GUckme4BIrfh",
        "outputId": "b70029f6-223f-4e5b-a2d0-4f014756b43c"
      },
      "execution_count": 2,
      "outputs": [
        {
          "output_type": "stream",
          "name": "stdout",
          "text": [
            "26 en base 10 es 26\n",
            "26 en base 2 es 0b11010\n",
            "26 en base 8 es 0o32\n",
            "26 en base 16 es 0x1a\n"
          ]
        }
      ]
    }
  ]
}